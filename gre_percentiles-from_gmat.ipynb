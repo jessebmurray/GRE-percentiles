{
 "cells": [
  {
   "cell_type": "code",
   "execution_count": 1,
   "metadata": {},
   "outputs": [],
   "source": [
    "import pandas as pd\n",
    "import numpy as np\n",
    "import matplotlib.pyplot as plt"
   ]
  },
  {
   "cell_type": "markdown",
   "metadata": {},
   "source": [
    "### Load GMAT percentile data \n",
    "\n",
    "(Copy and pasted from [MBA website](https://www.mba.com/exams/gmat/after-the-exam/gmat-scores-and-score-reports/what-gmat-percentile-ranking-means).)"
   ]
  },
  {
   "cell_type": "code",
   "execution_count": 2,
   "metadata": {},
   "outputs": [],
   "source": [
    "df = pd.read_csv('gmat.csv')[:-1]"
   ]
  },
  {
   "cell_type": "code",
   "execution_count": 3,
   "metadata": {},
   "outputs": [],
   "source": [
    "# Convert to float\n",
    "df.per = df.per.str.rstrip('%').astype(np.float)"
   ]
  },
  {
   "cell_type": "code",
   "execution_count": 4,
   "metadata": {},
   "outputs": [
    {
     "data": {
      "text/html": [
       "<div>\n",
       "<style scoped>\n",
       "    .dataframe tbody tr th:only-of-type {\n",
       "        vertical-align: middle;\n",
       "    }\n",
       "\n",
       "    .dataframe tbody tr th {\n",
       "        vertical-align: top;\n",
       "    }\n",
       "\n",
       "    .dataframe thead th {\n",
       "        text-align: right;\n",
       "    }\n",
       "</style>\n",
       "<table border=\"1\" class=\"dataframe\">\n",
       "  <thead>\n",
       "    <tr style=\"text-align: right;\">\n",
       "      <th></th>\n",
       "      <th>gmat</th>\n",
       "      <th>per</th>\n",
       "    </tr>\n",
       "  </thead>\n",
       "  <tbody>\n",
       "    <tr>\n",
       "      <th>0</th>\n",
       "      <td>800.0</td>\n",
       "      <td>99.0</td>\n",
       "    </tr>\n",
       "    <tr>\n",
       "      <th>1</th>\n",
       "      <td>790.0</td>\n",
       "      <td>99.0</td>\n",
       "    </tr>\n",
       "    <tr>\n",
       "      <th>2</th>\n",
       "      <td>780.0</td>\n",
       "      <td>99.0</td>\n",
       "    </tr>\n",
       "    <tr>\n",
       "      <th>3</th>\n",
       "      <td>770.0</td>\n",
       "      <td>99.0</td>\n",
       "    </tr>\n",
       "    <tr>\n",
       "      <th>4</th>\n",
       "      <td>760.0</td>\n",
       "      <td>99.0</td>\n",
       "    </tr>\n",
       "    <tr>\n",
       "      <th>...</th>\n",
       "      <td>...</td>\n",
       "      <td>...</td>\n",
       "    </tr>\n",
       "    <tr>\n",
       "      <th>56</th>\n",
       "      <td>240.0</td>\n",
       "      <td>1.0</td>\n",
       "    </tr>\n",
       "    <tr>\n",
       "      <th>57</th>\n",
       "      <td>230.0</td>\n",
       "      <td>1.0</td>\n",
       "    </tr>\n",
       "    <tr>\n",
       "      <th>58</th>\n",
       "      <td>220.0</td>\n",
       "      <td>1.0</td>\n",
       "    </tr>\n",
       "    <tr>\n",
       "      <th>59</th>\n",
       "      <td>210.0</td>\n",
       "      <td>0.0</td>\n",
       "    </tr>\n",
       "    <tr>\n",
       "      <th>60</th>\n",
       "      <td>200.0</td>\n",
       "      <td>0.0</td>\n",
       "    </tr>\n",
       "  </tbody>\n",
       "</table>\n",
       "<p>61 rows × 2 columns</p>\n",
       "</div>"
      ],
      "text/plain": [
       "     gmat   per\n",
       "0   800.0  99.0\n",
       "1   790.0  99.0\n",
       "2   780.0  99.0\n",
       "3   770.0  99.0\n",
       "4   760.0  99.0\n",
       "..    ...   ...\n",
       "56  240.0   1.0\n",
       "57  230.0   1.0\n",
       "58  220.0   1.0\n",
       "59  210.0   0.0\n",
       "60  200.0   0.0\n",
       "\n",
       "[61 rows x 2 columns]"
      ]
     },
     "execution_count": 4,
     "metadata": {},
     "output_type": "execute_result"
    }
   ],
   "source": [
    "df"
   ]
  },
  {
   "cell_type": "markdown",
   "metadata": {},
   "source": [
    "### Define the GRE to GMAT conversion"
   ]
  },
  {
   "cell_type": "markdown",
   "metadata": {},
   "source": [
    "Multiple linear regression equation taken from the [ETS website](https://www.ets.org/s/gre/pdf/background_and_technical_information.pdf)."
   ]
  },
  {
   "cell_type": "code",
   "execution_count": 5,
   "metadata": {},
   "outputs": [],
   "source": [
    "def reg_equation(verb, quant):\n",
    "    return -2080.75 + 6.38*verb + 10.62*quant"
   ]
  },
  {
   "cell_type": "markdown",
   "metadata": {},
   "source": [
    "### Get all possible GRE scores and their GMAT equivalents"
   ]
  },
  {
   "cell_type": "code",
   "execution_count": 6,
   "metadata": {},
   "outputs": [],
   "source": [
    "scores = np.arange(130, 171)\n",
    "V, Q = np.meshgrid(scores, scores)"
   ]
  },
  {
   "cell_type": "code",
   "execution_count": 7,
   "metadata": {},
   "outputs": [],
   "source": [
    "GRE = V + Q\n",
    "GMAT = reg_equation(V, Q)"
   ]
  },
  {
   "cell_type": "code",
   "execution_count": 8,
   "metadata": {},
   "outputs": [
    {
     "data": {
      "text/plain": [
       "array([[260, 261, 262, ..., 298, 299, 300],\n",
       "       [261, 262, 263, ..., 299, 300, 301],\n",
       "       [262, 263, 264, ..., 300, 301, 302],\n",
       "       ...,\n",
       "       [298, 299, 300, ..., 336, 337, 338],\n",
       "       [299, 300, 301, ..., 337, 338, 339],\n",
       "       [300, 301, 302, ..., 338, 339, 340]])"
      ]
     },
     "execution_count": 8,
     "metadata": {},
     "output_type": "execute_result"
    }
   ],
   "source": [
    "GRE"
   ]
  },
  {
   "cell_type": "code",
   "execution_count": 9,
   "metadata": {},
   "outputs": [
    {
     "data": {
      "text/plain": [
       "array([[129.25, 135.63, 142.01, ..., 371.69, 378.07, 384.45],\n",
       "       [139.87, 146.25, 152.63, ..., 382.31, 388.69, 395.07],\n",
       "       [150.49, 156.87, 163.25, ..., 392.93, 399.31, 405.69],\n",
       "       ...,\n",
       "       [532.81, 539.19, 545.57, ..., 775.25, 781.63, 788.01],\n",
       "       [543.43, 549.81, 556.19, ..., 785.87, 792.25, 798.63],\n",
       "       [554.05, 560.43, 566.81, ..., 796.49, 802.87, 809.25]])"
      ]
     },
     "execution_count": 9,
     "metadata": {},
     "output_type": "execute_result"
    }
   ],
   "source": [
    "GMAT"
   ]
  },
  {
   "cell_type": "code",
   "execution_count": null,
   "metadata": {},
   "outputs": [],
   "source": []
  },
  {
   "cell_type": "markdown",
   "metadata": {},
   "source": [
    "#### Get bins to put the gre scores into percentiles"
   ]
  },
  {
   "cell_type": "code",
   "execution_count": 10,
   "metadata": {},
   "outputs": [
    {
     "data": {
      "text/plain": [
       "array([795., 785., 775., 765., 755., 745., 735., 725., 715., 705., 695.,\n",
       "       685., 675., 665., 655., 645., 635., 625., 615., 605., 595., 585.,\n",
       "       575., 565., 555., 545., 535., 525., 515., 505., 495., 485., 475.,\n",
       "       465., 455., 445., 435., 425., 415., 405., 395., 385., 375., 365.,\n",
       "       355., 345., 335., 325., 315., 305., 295., 285., 275., 265., 255.,\n",
       "       245., 235., 225., 215., 205.])"
      ]
     },
     "execution_count": 10,
     "metadata": {},
     "output_type": "execute_result"
    }
   ],
   "source": [
    "gmatbins = df.gmat.to_numpy()[:-1] - 5\n",
    "gmatbins"
   ]
  },
  {
   "cell_type": "code",
   "execution_count": 11,
   "metadata": {},
   "outputs": [],
   "source": [
    "indices = np.digitize(GMAT.ravel(), bins=gmatbins)\n",
    "percentiles = df.per.to_numpy()[indices]"
   ]
  },
  {
   "cell_type": "code",
   "execution_count": 12,
   "metadata": {},
   "outputs": [
    {
     "data": {
      "text/plain": [
       "array([ 0.,  0.,  0., ..., 99., 99., 99.])"
      ]
     },
     "execution_count": 12,
     "metadata": {},
     "output_type": "execute_result"
    }
   ],
   "source": [
    "percentiles"
   ]
  },
  {
   "cell_type": "code",
   "execution_count": 13,
   "metadata": {},
   "outputs": [],
   "source": [
    "dfall = pd.DataFrame(list(zip(V.ravel(), Q.ravel(), GRE.ravel(), percentiles)), \n",
    "            columns=['Verbal GRE', 'Quantitative GRE', 'Composite GRE', 'GMAT Percentile'])"
   ]
  },
  {
   "cell_type": "code",
   "execution_count": null,
   "metadata": {},
   "outputs": [],
   "source": []
  },
  {
   "cell_type": "code",
   "execution_count": 14,
   "metadata": {},
   "outputs": [],
   "source": [
    "dfcomp = pd.DataFrame(np.unique(np.array(list(zip(GRE.ravel(), percentiles))), axis=0), \n",
    "            columns=['Composite GRE', 'GMAT Percentile'])"
   ]
  },
  {
   "cell_type": "markdown",
   "metadata": {},
   "source": [
    "#### Unfortunately, the same composite GRE score can have multiple percentile scores, and vice versa\n",
    "\n",
    "This is why we will take the median percentile for each composite GRE score. "
   ]
  },
  {
   "cell_type": "code",
   "execution_count": 15,
   "metadata": {},
   "outputs": [
    {
     "name": "stdout",
     "output_type": "stream",
     "text": [
      "[1, 1, 1, 1, 1, 1, 1, 1, 1, 2, 2, 2, 3, 3, 2, 2, 3, 3, 4, 4, 4, 4, 5, 6, 7, 7, 8, 9, 10, 11, 11, 12, 13, 13, 14, 15, 15, 15, 16, 16, 17, 17, 17, 16, 16, 16, 15, 15, 15, 14, 14, 13, 13, 13, 12, 12, 12, 11, 10, 10, 9, 9, 8, 8, 8, 7, 7, 7, 6, 6, 6, 5, 5, 4, 2, 1, 1, 1, 1, 1, 1]\n"
     ]
    }
   ],
   "source": [
    "print(dfcomp.groupby('Composite GRE')['GMAT Percentile'].nunique().tolist())"
   ]
  },
  {
   "cell_type": "code",
   "execution_count": 34,
   "metadata": {},
   "outputs": [
    {
     "data": {
      "text/html": [
       "<div>\n",
       "<style scoped>\n",
       "    .dataframe tbody tr th:only-of-type {\n",
       "        vertical-align: middle;\n",
       "    }\n",
       "\n",
       "    .dataframe tbody tr th {\n",
       "        vertical-align: top;\n",
       "    }\n",
       "\n",
       "    .dataframe thead th {\n",
       "        text-align: right;\n",
       "    }\n",
       "</style>\n",
       "<table border=\"1\" class=\"dataframe\">\n",
       "  <thead>\n",
       "    <tr style=\"text-align: right;\">\n",
       "      <th></th>\n",
       "      <th>Composite GRE</th>\n",
       "      <th>GMAT Percentile</th>\n",
       "    </tr>\n",
       "  </thead>\n",
       "  <tbody>\n",
       "    <tr>\n",
       "      <th>250</th>\n",
       "      <td>300.0</td>\n",
       "      <td>8.0</td>\n",
       "    </tr>\n",
       "    <tr>\n",
       "      <th>251</th>\n",
       "      <td>300.0</td>\n",
       "      <td>9.0</td>\n",
       "    </tr>\n",
       "    <tr>\n",
       "      <th>252</th>\n",
       "      <td>300.0</td>\n",
       "      <td>10.0</td>\n",
       "    </tr>\n",
       "    <tr>\n",
       "      <th>253</th>\n",
       "      <td>300.0</td>\n",
       "      <td>12.0</td>\n",
       "    </tr>\n",
       "    <tr>\n",
       "      <th>254</th>\n",
       "      <td>300.0</td>\n",
       "      <td>13.0</td>\n",
       "    </tr>\n",
       "    <tr>\n",
       "      <th>255</th>\n",
       "      <td>300.0</td>\n",
       "      <td>14.0</td>\n",
       "    </tr>\n",
       "    <tr>\n",
       "      <th>256</th>\n",
       "      <td>300.0</td>\n",
       "      <td>15.0</td>\n",
       "    </tr>\n",
       "    <tr>\n",
       "      <th>257</th>\n",
       "      <td>300.0</td>\n",
       "      <td>17.0</td>\n",
       "    </tr>\n",
       "    <tr>\n",
       "      <th>258</th>\n",
       "      <td>300.0</td>\n",
       "      <td>19.0</td>\n",
       "    </tr>\n",
       "    <tr>\n",
       "      <th>259</th>\n",
       "      <td>300.0</td>\n",
       "      <td>21.0</td>\n",
       "    </tr>\n",
       "    <tr>\n",
       "      <th>260</th>\n",
       "      <td>300.0</td>\n",
       "      <td>23.0</td>\n",
       "    </tr>\n",
       "    <tr>\n",
       "      <th>261</th>\n",
       "      <td>300.0</td>\n",
       "      <td>25.0</td>\n",
       "    </tr>\n",
       "    <tr>\n",
       "      <th>262</th>\n",
       "      <td>300.0</td>\n",
       "      <td>27.0</td>\n",
       "    </tr>\n",
       "    <tr>\n",
       "      <th>263</th>\n",
       "      <td>300.0</td>\n",
       "      <td>30.0</td>\n",
       "    </tr>\n",
       "    <tr>\n",
       "      <th>264</th>\n",
       "      <td>300.0</td>\n",
       "      <td>31.0</td>\n",
       "    </tr>\n",
       "    <tr>\n",
       "      <th>265</th>\n",
       "      <td>300.0</td>\n",
       "      <td>35.0</td>\n",
       "    </tr>\n",
       "    <tr>\n",
       "      <th>266</th>\n",
       "      <td>300.0</td>\n",
       "      <td>38.0</td>\n",
       "    </tr>\n",
       "  </tbody>\n",
       "</table>\n",
       "</div>"
      ],
      "text/plain": [
       "     Composite GRE  GMAT Percentile\n",
       "250          300.0              8.0\n",
       "251          300.0              9.0\n",
       "252          300.0             10.0\n",
       "253          300.0             12.0\n",
       "254          300.0             13.0\n",
       "255          300.0             14.0\n",
       "256          300.0             15.0\n",
       "257          300.0             17.0\n",
       "258          300.0             19.0\n",
       "259          300.0             21.0\n",
       "260          300.0             23.0\n",
       "261          300.0             25.0\n",
       "262          300.0             27.0\n",
       "263          300.0             30.0\n",
       "264          300.0             31.0\n",
       "265          300.0             35.0\n",
       "266          300.0             38.0"
      ]
     },
     "execution_count": 34,
     "metadata": {},
     "output_type": "execute_result"
    }
   ],
   "source": [
    "dfcomp.loc[dfcomp['Composite GRE'] == 300]"
   ]
  },
  {
   "cell_type": "code",
   "execution_count": 58,
   "metadata": {},
   "outputs": [
    {
     "data": {
      "text/plain": [
       "GMAT Percentile\n",
       "0.0     4.183300\n",
       "1.0     3.316625\n",
       "2.0     4.183300\n",
       "3.0     4.183300\n",
       "4.0     4.472136\n",
       "5.0     4.760952\n",
       "6.0     4.472136\n",
       "7.0     4.760952\n",
       "8.0     5.049752\n",
       "9.0     4.760952\n",
       "10.0    5.049752\n",
       "12.0    5.049752\n",
       "13.0    5.049752\n",
       "14.0    5.049752\n",
       "15.0    5.049752\n",
       "17.0    5.049752\n",
       "19.0    5.049752\n",
       "21.0    5.049752\n",
       "23.0    5.049752\n",
       "25.0    5.049752\n",
       "27.0    5.049752\n",
       "30.0    5.049752\n",
       "31.0    5.049752\n",
       "35.0    5.049752\n",
       "38.0    5.049752\n",
       "41.0    5.049752\n",
       "44.0    4.760952\n",
       "47.0    4.472136\n",
       "51.0    4.472136\n",
       "54.0    4.183300\n",
       "58.0    4.183300\n",
       "62.0    3.894440\n",
       "65.0    3.605551\n",
       "67.0    3.605551\n",
       "73.0    3.316625\n",
       "77.0    3.316625\n",
       "80.0    3.027650\n",
       "82.0    3.027650\n",
       "85.0    2.738613\n",
       "88.0    2.449490\n",
       "91.0    2.449490\n",
       "94.0    2.160247\n",
       "96.0    2.160247\n",
       "97.0    1.581139\n",
       "98.0    1.581139\n",
       "99.0    2.738613\n",
       "Name: Composite GRE, dtype: float64"
      ]
     },
     "execution_count": 58,
     "metadata": {},
     "output_type": "execute_result"
    }
   ],
   "source": [
    "dfcomp.groupby('GMAT Percentile')['Composite GRE'].std()"
   ]
  },
  {
   "cell_type": "markdown",
   "metadata": {},
   "source": [
    "#### Get the median percentile for each composite score"
   ]
  },
  {
   "cell_type": "code",
   "execution_count": 59,
   "metadata": {},
   "outputs": [],
   "source": [
    "dfcomp2 = pd.DataFrame(dfcomp.groupby('Composite GRE'\n",
    "            )['GMAT Percentile'].median()).reset_index()\n"
   ]
  },
  {
   "cell_type": "code",
   "execution_count": null,
   "metadata": {},
   "outputs": [],
   "source": [
    "dfcomp2.to_csv('')"
   ]
  },
  {
   "cell_type": "code",
   "execution_count": 63,
   "metadata": {},
   "outputs": [
    {
     "name": "stdout",
     "output_type": "stream",
     "text": [
      "|    |   Composite GRE |   GMAT Percentile |\n",
      "|---:|----------------:|------------------:|\n",
      "|  0 |             260 |               0   |\n",
      "|  1 |             261 |               0   |\n",
      "|  2 |             262 |               0   |\n",
      "|  3 |             263 |               0   |\n",
      "|  4 |             264 |               0   |\n",
      "|  5 |             265 |               0   |\n",
      "|  6 |             266 |               0   |\n",
      "|  7 |             267 |               0   |\n",
      "|  8 |             268 |               0   |\n",
      "|  9 |             269 |               0.5 |\n",
      "| 10 |             270 |               0.5 |\n",
      "| 11 |             271 |               0.5 |\n",
      "| 12 |             272 |               1   |\n",
      "| 13 |             273 |               1   |\n",
      "| 14 |             274 |               1.5 |\n",
      "| 15 |             275 |               1.5 |\n",
      "| 16 |             276 |               2   |\n",
      "| 17 |             277 |               2   |\n",
      "| 18 |             278 |               2.5 |\n",
      "| 19 |             279 |               2.5 |\n",
      "| 20 |             280 |               3.5 |\n",
      "| 21 |             281 |               3.5 |\n",
      "| 22 |             282 |               4   |\n",
      "| 23 |             283 |               4.5 |\n",
      "| 24 |             284 |               5   |\n",
      "| 25 |             285 |               5   |\n",
      "| 26 |             286 |               6.5 |\n",
      "| 27 |             287 |               7   |\n",
      "| 28 |             288 |               7.5 |\n",
      "| 29 |             289 |               8   |\n",
      "| 30 |             290 |               9   |\n",
      "| 31 |             291 |               9.5 |\n",
      "| 32 |             292 |              10   |\n",
      "| 33 |             293 |              12   |\n",
      "| 34 |             294 |              12.5 |\n",
      "| 35 |             295 |              13   |\n",
      "| 36 |             296 |              14   |\n",
      "| 37 |             297 |              15   |\n",
      "| 38 |             298 |              16   |\n",
      "| 39 |             299 |              18   |\n",
      "| 40 |             300 |              19   |\n",
      "| 41 |             301 |              21   |\n",
      "| 42 |             302 |              23   |\n",
      "| 43 |             303 |              24   |\n",
      "| 44 |             304 |              26   |\n",
      "| 45 |             305 |              28.5 |\n",
      "| 46 |             306 |              30   |\n",
      "| 47 |             307 |              31   |\n",
      "| 48 |             308 |              35   |\n",
      "| 49 |             309 |              36.5 |\n",
      "| 50 |             310 |              39.5 |\n",
      "| 51 |             311 |              41   |\n",
      "| 52 |             312 |              44   |\n",
      "| 53 |             313 |              47   |\n",
      "| 54 |             314 |              49   |\n",
      "| 55 |             315 |              52.5 |\n",
      "| 56 |             316 |              56   |\n",
      "| 57 |             317 |              58   |\n",
      "| 58 |             318 |              63.5 |\n",
      "| 59 |             319 |              66   |\n",
      "| 60 |             320 |              67   |\n",
      "| 61 |             321 |              73   |\n",
      "| 62 |             322 |              75   |\n",
      "| 63 |             323 |              78.5 |\n",
      "| 64 |             324 |              81   |\n",
      "| 65 |             325 |              82   |\n",
      "| 66 |             326 |              85   |\n",
      "| 67 |             327 |              88   |\n",
      "| 68 |             328 |              89.5 |\n",
      "| 69 |             329 |              92.5 |\n",
      "| 70 |             330 |              95   |\n",
      "| 71 |             331 |              96   |\n",
      "| 72 |             332 |              97   |\n",
      "| 73 |             333 |              97.5 |\n",
      "| 74 |             334 |              98.5 |\n",
      "| 75 |             335 |              99   |\n",
      "| 76 |             336 |              99   |\n",
      "| 77 |             337 |              99   |\n",
      "| 78 |             338 |              99   |\n",
      "| 79 |             339 |              99   |\n",
      "| 80 |             340 |              99   |\n"
     ]
    }
   ],
   "source": [
    "print(dfcomp2.to_markdown())"
   ]
  },
  {
   "cell_type": "code",
   "execution_count": null,
   "metadata": {},
   "outputs": [],
   "source": []
  },
  {
   "cell_type": "code",
   "execution_count": null,
   "metadata": {},
   "outputs": [],
   "source": []
  },
  {
   "cell_type": "code",
   "execution_count": null,
   "metadata": {},
   "outputs": [],
   "source": []
  },
  {
   "cell_type": "code",
   "execution_count": null,
   "metadata": {},
   "outputs": [],
   "source": []
  },
  {
   "cell_type": "code",
   "execution_count": null,
   "metadata": {},
   "outputs": [],
   "source": []
  },
  {
   "cell_type": "code",
   "execution_count": null,
   "metadata": {},
   "outputs": [],
   "source": []
  },
  {
   "cell_type": "code",
   "execution_count": null,
   "metadata": {},
   "outputs": [],
   "source": []
  },
  {
   "cell_type": "code",
   "execution_count": null,
   "metadata": {},
   "outputs": [],
   "source": []
  },
  {
   "cell_type": "code",
   "execution_count": null,
   "metadata": {},
   "outputs": [],
   "source": []
  }
 ],
 "metadata": {
  "kernelspec": {
   "display_name": "Python 3",
   "language": "python",
   "name": "python3"
  },
  "language_info": {
   "codemirror_mode": {
    "name": "ipython",
    "version": 3
   },
   "file_extension": ".py",
   "mimetype": "text/x-python",
   "name": "python",
   "nbconvert_exporter": "python",
   "pygments_lexer": "ipython3",
   "version": "3.8.3"
  }
 },
 "nbformat": 4,
 "nbformat_minor": 4
}
